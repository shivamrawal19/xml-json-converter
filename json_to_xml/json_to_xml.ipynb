{
 "cells": [
  {
   "cell_type": "code",
   "execution_count": 20,
   "metadata": {},
   "outputs": [],
   "source": [
    "input_json_path = \"file.json\"\n",
    "output_xml_path = \"parsedjson.xml\""
   ]
  },
  {
   "cell_type": "code",
   "execution_count": 21,
   "metadata": {},
   "outputs": [],
   "source": [
    "import xml.etree.cElementTree as ET\n",
    "from xml.dom import minidom\n",
    "import json"
   ]
  },
  {
   "cell_type": "code",
   "execution_count": 22,
   "metadata": {},
   "outputs": [
    {
     "name": "stdout",
     "output_type": "stream",
     "text": [
      "{\n",
      "    \"0_first-tag\": {\n",
      "        \"0_not-interested\": {\n",
      "            \"@val\": \"blah blah\"\n",
      "        },\n",
      "        \"1_second-tag\": {\n",
      "            \"0_the-tag-you-want-as-root\": {\n",
      "                \"0_row\": {\n",
      "                    \"0_columnA\": {\n",
      "                        \"@val\": \"The data that you want\",\n",
      "                        \"_link\": \"a/at3.htm\"\n",
      "                    },\n",
      "                    \"1_columnB\": {\n",
      "                        \"@val\": \"More data that you want\",\n",
      "                        \"_link\": \"h/at3.htm\"\n",
      "                    }\n",
      "                },\n",
      "                \"1_row\": {\n",
      "                    \"0_columnA\": {\n",
      "                        \"@val\": \"Yet more data that you want\",\n",
      "                        \"_link\": \"e/at3.htm\"\n",
      "                    },\n",
      "                    \"1_columnB\": {\n",
      "                        \"@val\": \"Eh, get this data too\",\n",
      "                        \"_link\": \"s/at3.htm\"\n",
      "                    }\n",
      "                }\n",
      "            },\n",
      "            \"_name\": \"tagname\"\n",
      "        },\n",
      "        \"2_another-irrelevant-tag\": {\n",
      "            \"@val\": \"some other info that you do not want\"\n",
      "        }\n",
      "    }\n",
      "}\n"
     ]
    }
   ],
   "source": [
    "with open(input_json_path) as f:\n",
    "    data = json.load(f)\n",
    "\n",
    "print(json.dumps(data, indent=4, sort_keys=True))"
   ]
  },
  {
   "cell_type": "code",
   "execution_count": 98,
   "metadata": {},
   "outputs": [],
   "source": [
    "def addnode(root, data):\n",
    "    for ele in data:\n",
    "        \n",
    "        if \"_\" in ele: # tag or attribute\n",
    "            \n",
    "            if ele.index(\"_\") == 0: # attribute\n",
    "                root.set(ele.split(\"_\")[1], data[ele])\n",
    "                \n",
    "            else: # tag\n",
    "                subele = ET.SubElement(root, ele.split(\"_\")[1])\n",
    "                addnode(subele, data[ele])\n",
    "                \n",
    "        elif \"@\" in ele: # text\n",
    "            root.text = data[ele]"
   ]
  },
  {
   "cell_type": "code",
   "execution_count": 99,
   "metadata": {},
   "outputs": [
    {
     "name": "stdout",
     "output_type": "stream",
     "text": [
      "<?xml version=\"1.0\" ?>\n",
      "<first-tag>\n",
      "    <not-interested>blah blah</not-interested>\n",
      "    <second-tag name=\"tagname\">\n",
      "        <the-tag-you-want-as-root>\n",
      "            <row>\n",
      "                <columnA link=\"a/at3.htm\">The data that you want</columnA>\n",
      "                <columnB link=\"h/at3.htm\">More data that you want</columnB>\n",
      "            </row>\n",
      "            <row>\n",
      "                <columnA link=\"e/at3.htm\">Yet more data that you want</columnA>\n",
      "                <columnB link=\"s/at3.htm\">Eh, get this data too</columnB>\n",
      "            </row>\n",
      "        </the-tag-you-want-as-root>\n",
      "    </second-tag>\n",
      "    <another-irrelevant-tag>some other info that you do not want</another-irrelevant-tag>\n",
      "</first-tag>\n",
      "\n"
     ]
    }
   ],
   "source": [
    "data.keys()\n",
    "\n",
    "for ele in data:\n",
    "    root = ET.Element(ele.split(\"_\")[1])\n",
    "    addnode(root, data[ele])\n",
    "        \n",
    "# ET.tostring(root)\n",
    "print(minidom.parseString(ET.tostring(root)).toprettyxml(indent=\"    \"))"
   ]
  },
  {
   "cell_type": "code",
   "execution_count": 100,
   "metadata": {},
   "outputs": [],
   "source": [
    "xmlstr = minidom.parseString(ET.tostring(root)).toprettyxml(indent=\"    \")\n",
    "with open(output_xml_path, \"w\") as f:\n",
    "    f.write(xmlstr)"
   ]
  },
  {
   "cell_type": "code",
   "execution_count": 12,
   "metadata": {},
   "outputs": [],
   "source": []
  },
  {
   "cell_type": "code",
   "execution_count": null,
   "metadata": {},
   "outputs": [],
   "source": [
    "root = ET.Element(\"root\")\n",
    "doc = ET.SubElement(root, \"doc\")\n",
    "\n",
    "ET.SubElement(doc, \"field1\", name=\"blah\").text = \"some value1\"\n",
    "ET.SubElement(doc, \"field2\", name=\"asdfasd\").text = \"some vlaue2\""
   ]
  },
  {
   "cell_type": "code",
   "execution_count": null,
   "metadata": {},
   "outputs": [],
   "source": [
    "# root = ET.Element(\"root\")\n",
    "\n",
    "# addnode(root, data)\n",
    "\n",
    "# for ele in data:\n",
    "#     print(ele)\n",
    "\n",
    "#     # create element\n",
    "#     root = ET.Element(ele.split(\"_\")[1])\n",
    "\n",
    "#     # add attributes    \n",
    "#     for elechild in data[ele]:\n",
    "#         print(elechild)\n",
    "#         subele = ET.SubElement(root, elechild.split(\"_\")[1])\n",
    "        \n",
    "#         for elechildchild in data[ele][elechild]:\n",
    "#             print(elechildchild)\n",
    "#             if \"_\" in elechildchild:\n",
    "#                 if elechildchild.index(\"_\") == 0:\n",
    "#                     subele.set(elechildchild.split(\"_\")[1], data[ele][elechild][elechildchild])\n",
    "#                 else:\n",
    "#                     subsubele = ET.SubElement(subele, elechildchild.split(\"_\")[1])\n",
    "                    \n",
    "#                     for elechildchildchild in data[ele][elechild][elechildchild]:\n",
    "#                         print(elechildchildchild)\n",
    "#                         if \"_\" in elechildchildchild:\n",
    "#                             if elechildchildchild.index(\"_\") == 0:\n",
    "#                                 subsubele.set(elechildchildchild.split(\"_\")[1], data[ele][elechild][elechildchild][elechildchildchild])\n",
    "#                             else:\n",
    "#                                 ET.SubElement(subsubele, elechildchildchild.split(\"_\")[1])\n",
    "#                         elif \"@\" in elechildchild:\n",
    "#                             subsubele.text = data[ele][elechild][elechildchild][elechildchildchild]\n",
    "                            \n",
    "#             elif \"@\" in elechildchild:\n",
    "#                 subele.text = data[ele][elechild][elechildchild]"
   ]
  }
 ],
 "metadata": {
  "kernelspec": {
   "display_name": "Python 3",
   "language": "python",
   "name": "python3"
  },
  "language_info": {
   "codemirror_mode": {
    "name": "ipython",
    "version": 3
   },
   "file_extension": ".py",
   "mimetype": "text/x-python",
   "name": "python",
   "nbconvert_exporter": "python",
   "pygments_lexer": "ipython3",
   "version": "3.8.5"
  }
 },
 "nbformat": 4,
 "nbformat_minor": 4
}
