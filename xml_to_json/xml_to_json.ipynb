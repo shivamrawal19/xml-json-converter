{
 "cells": [
  {
   "cell_type": "code",
   "execution_count": 2,
   "metadata": {},
   "outputs": [],
   "source": [
    "input_xml_path = \"file.xml\"\n",
    "output_json_path = \"parsedxml.json\""
   ]
  },
  {
   "cell_type": "code",
   "execution_count": 3,
   "metadata": {},
   "outputs": [],
   "source": [
    "import xml.etree.ElementTree as ET\n",
    "import json"
   ]
  },
  {
   "cell_type": "code",
   "execution_count": 4,
   "metadata": {},
   "outputs": [],
   "source": [
    "tree = ET.parse(input_xml_path)\n",
    "root = tree.getroot()"
   ]
  },
  {
   "cell_type": "code",
   "execution_count": 5,
   "metadata": {},
   "outputs": [],
   "source": [
    "def addnode(root, rootindex = 0):\n",
    "    \n",
    "    y = json.loads('{}')\n",
    "\n",
    "    # attributes\n",
    "    for rootattr in root.attrib.keys():\n",
    "        y[\"_\"+rootattr] = root.attrib[rootattr]\n",
    "\n",
    "    # end text\n",
    "    if root.text.strip() != \"\":\n",
    "        y[\"@val\"] = root.text.strip()\n",
    "\n",
    "    # children\n",
    "    for rootchildindex, rootchild in enumerate(root):\n",
    "        y[str(rootchildindex)+\"_\"+rootchild.tag] = addnode(rootchild, rootchildindex)\n",
    "        \n",
    "    return y"
   ]
  },
  {
   "cell_type": "code",
   "execution_count": 6,
   "metadata": {},
   "outputs": [
    {
     "name": "stdout",
     "output_type": "stream",
     "text": [
      "{\n",
      "    \"0_first-tag\": {\n",
      "        \"0_not-interested\": {\n",
      "            \"@val\": \"blah blah\"\n",
      "        },\n",
      "        \"1_second-tag\": {\n",
      "            \"0_the-tag-you-want-as-root\": {\n",
      "                \"0_row\": {\n",
      "                    \"0_columnA\": {\n",
      "                        \"@val\": \"The data that you want\",\n",
      "                        \"_link\": \"a/at3.htm\"\n",
      "                    },\n",
      "                    \"1_columnB\": {\n",
      "                        \"@val\": \"More data that you want\",\n",
      "                        \"_link\": \"h/at3.htm\"\n",
      "                    }\n",
      "                },\n",
      "                \"1_row\": {\n",
      "                    \"0_columnA\": {\n",
      "                        \"@val\": \"Yet more data that you want\",\n",
      "                        \"_link\": \"e/at3.htm\"\n",
      "                    },\n",
      "                    \"1_columnB\": {\n",
      "                        \"@val\": \"Eh, get this data too\",\n",
      "                        \"_link\": \"s/at3.htm\"\n",
      "                    }\n",
      "                }\n",
      "            },\n",
      "            \"_name\": \"tagname\"\n",
      "        },\n",
      "        \"2_another-irrelevant-tag\": {\n",
      "            \"@val\": \"some other info that you do not want\"\n",
      "        }\n",
      "    }\n",
      "}\n"
     ]
    }
   ],
   "source": [
    "y = json.loads('{}')\n",
    "\n",
    "y[\"0_\"+root.tag] = addnode(root)\n",
    "\n",
    "print(json.dumps(y, indent=4, sort_keys=True))"
   ]
  },
  {
   "cell_type": "code",
   "execution_count": 7,
   "metadata": {},
   "outputs": [],
   "source": [
    "with open(output_json_path, 'w') as outfile:\n",
    "    outfile.write(json.dumps(y, indent=4, sort_keys=True))"
   ]
  },
  {
   "cell_type": "code",
   "execution_count": null,
   "metadata": {},
   "outputs": [],
   "source": []
  }
 ],
 "metadata": {
  "kernelspec": {
   "display_name": "Python 3",
   "language": "python",
   "name": "python3"
  },
  "language_info": {
   "codemirror_mode": {
    "name": "ipython",
    "version": 3
   },
   "file_extension": ".py",
   "mimetype": "text/x-python",
   "name": "python",
   "nbconvert_exporter": "python",
   "pygments_lexer": "ipython3",
   "version": "3.8.5"
  }
 },
 "nbformat": 4,
 "nbformat_minor": 4
}
